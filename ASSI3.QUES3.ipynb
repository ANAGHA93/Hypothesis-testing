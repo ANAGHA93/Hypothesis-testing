{
 "cells": [
  {
   "cell_type": "code",
   "execution_count": 1,
   "id": "43638b3a",
   "metadata": {},
   "outputs": [],
   "source": [
    "import pandas as pd\n",
    "import numpy as np\n",
    "from scipy.stats import chi2_contingency\n"
   ]
  },
  {
   "cell_type": "code",
   "execution_count": 4,
   "id": "b08eb389",
   "metadata": {},
   "outputs": [],
   "source": [
    "region_sales=pd.DataFrame([[50,142,131,70] ,[550,351,480,350]],index=[\"Male\",\"Female\"],\n",
    "                    columns=[\"East\",\"West\",\"North\",\"South\"])\n",
    "\n"
   ]
  },
  {
   "cell_type": "code",
   "execution_count": 5,
   "id": "fbeb7ddf",
   "metadata": {},
   "outputs": [
    {
     "data": {
      "text/html": [
       "<div>\n",
       "<style scoped>\n",
       "    .dataframe tbody tr th:only-of-type {\n",
       "        vertical-align: middle;\n",
       "    }\n",
       "\n",
       "    .dataframe tbody tr th {\n",
       "        vertical-align: top;\n",
       "    }\n",
       "\n",
       "    .dataframe thead th {\n",
       "        text-align: right;\n",
       "    }\n",
       "</style>\n",
       "<table border=\"1\" class=\"dataframe\">\n",
       "  <thead>\n",
       "    <tr style=\"text-align: right;\">\n",
       "      <th></th>\n",
       "      <th>East</th>\n",
       "      <th>West</th>\n",
       "      <th>North</th>\n",
       "      <th>South</th>\n",
       "    </tr>\n",
       "  </thead>\n",
       "  <tbody>\n",
       "    <tr>\n",
       "      <th>Male</th>\n",
       "      <td>50</td>\n",
       "      <td>142</td>\n",
       "      <td>131</td>\n",
       "      <td>70</td>\n",
       "    </tr>\n",
       "    <tr>\n",
       "      <th>Female</th>\n",
       "      <td>550</td>\n",
       "      <td>351</td>\n",
       "      <td>480</td>\n",
       "      <td>350</td>\n",
       "    </tr>\n",
       "  </tbody>\n",
       "</table>\n",
       "</div>"
      ],
      "text/plain": [
       "        East  West  North  South\n",
       "Male      50   142    131     70\n",
       "Female   550   351    480    350"
      ]
     },
     "execution_count": 5,
     "metadata": {},
     "output_type": "execute_result"
    }
   ],
   "source": [
    "region_sales"
   ]
  },
  {
   "cell_type": "code",
   "execution_count": 6,
   "id": "6e922415",
   "metadata": {},
   "outputs": [
    {
     "data": {
      "text/plain": [
       "Index(['East', 'West', 'North', 'South'], dtype='object')"
      ]
     },
     "execution_count": 6,
     "metadata": {},
     "output_type": "execute_result"
    }
   ],
   "source": [
    "\n",
    "region_sales.columns"
   ]
  },
  {
   "cell_type": "code",
   "execution_count": 8,
   "id": "9bd77b8e",
   "metadata": {},
   "outputs": [
    {
     "data": {
      "text/plain": [
       "Index(['Male', 'Female'], dtype='object')"
      ]
     },
     "execution_count": 8,
     "metadata": {},
     "output_type": "execute_result"
    }
   ],
   "source": [
    "region_sales.index"
   ]
  },
  {
   "cell_type": "code",
   "execution_count": 17,
   "id": "2f6a1f03",
   "metadata": {},
   "outputs": [
    {
     "data": {
      "text/plain": [
       "(80.27295426602495,\n",
       " 2.682172557281901e-17,\n",
       " 3,\n",
       " array([[111.01694915,  91.21892655, 113.05225989,  77.71186441],\n",
       "        [488.98305085, 401.78107345, 497.94774011, 342.28813559]]))"
      ]
     },
     "execution_count": 17,
     "metadata": {},
     "output_type": "execute_result"
    }
   ],
   "source": [
    "chi2_contingency(region_sales)\n"
   ]
  },
  {
   "cell_type": "code",
   "execution_count": 21,
   "id": "2b19e979",
   "metadata": {},
   "outputs": [],
   "source": [
    "df=chi2_contingency(region_sales)[3] \n",
    "region_salesE=pd.DataFrame(data=df[:,:],index=[\"Male\",\"Female\"],\n",
    "                    columns=[\"East\",\"West\",\"North\",\"South\"]).round(2)\n",
    "\n"
   ]
  },
  {
   "cell_type": "code",
   "execution_count": 19,
   "id": "a59d874d",
   "metadata": {},
   "outputs": [
    {
     "data": {
      "text/plain": [
       "array([[111.01694915,  91.21892655, 113.05225989,  77.71186441],\n",
       "       [488.98305085, 401.78107345, 497.94774011, 342.28813559]])"
      ]
     },
     "execution_count": 19,
     "metadata": {},
     "output_type": "execute_result"
    }
   ],
   "source": [
    "df"
   ]
  },
  {
   "cell_type": "code",
   "execution_count": 22,
   "id": "55ce0685",
   "metadata": {},
   "outputs": [
    {
     "data": {
      "text/html": [
       "<div>\n",
       "<style scoped>\n",
       "    .dataframe tbody tr th:only-of-type {\n",
       "        vertical-align: middle;\n",
       "    }\n",
       "\n",
       "    .dataframe tbody tr th {\n",
       "        vertical-align: top;\n",
       "    }\n",
       "\n",
       "    .dataframe thead th {\n",
       "        text-align: right;\n",
       "    }\n",
       "</style>\n",
       "<table border=\"1\" class=\"dataframe\">\n",
       "  <thead>\n",
       "    <tr style=\"text-align: right;\">\n",
       "      <th></th>\n",
       "      <th>East</th>\n",
       "      <th>West</th>\n",
       "      <th>North</th>\n",
       "      <th>South</th>\n",
       "    </tr>\n",
       "  </thead>\n",
       "  <tbody>\n",
       "    <tr>\n",
       "      <th>Male</th>\n",
       "      <td>111.02</td>\n",
       "      <td>91.22</td>\n",
       "      <td>113.05</td>\n",
       "      <td>77.71</td>\n",
       "    </tr>\n",
       "    <tr>\n",
       "      <th>Female</th>\n",
       "      <td>488.98</td>\n",
       "      <td>401.78</td>\n",
       "      <td>497.95</td>\n",
       "      <td>342.29</td>\n",
       "    </tr>\n",
       "  </tbody>\n",
       "</table>\n",
       "</div>"
      ],
      "text/plain": [
       "          East    West   North   South\n",
       "Male    111.02   91.22  113.05   77.71\n",
       "Female  488.98  401.78  497.95  342.29"
      ]
     },
     "execution_count": 22,
     "metadata": {},
     "output_type": "execute_result"
    }
   ],
   "source": [
    "region_salesE"
   ]
  },
  {
   "cell_type": "code",
   "execution_count": 23,
   "id": "b7c46e37",
   "metadata": {},
   "outputs": [],
   "source": [
    "chisquare=chi2_contingency(region_sales)[0]"
   ]
  },
  {
   "cell_type": "code",
   "execution_count": 24,
   "id": "8e4d983a",
   "metadata": {},
   "outputs": [
    {
     "data": {
      "text/plain": [
       "80.27295426602495"
      ]
     },
     "execution_count": 24,
     "metadata": {},
     "output_type": "execute_result"
    }
   ],
   "source": [
    "chisquare"
   ]
  },
  {
   "cell_type": "code",
   "execution_count": 26,
   "id": "e2dcbe0a",
   "metadata": {},
   "outputs": [],
   "source": [
    "Pvalue=chi2_contingency(region_sales)[1]"
   ]
  },
  {
   "cell_type": "code",
   "execution_count": 31,
   "id": "6cb522f6",
   "metadata": {},
   "outputs": [
    {
     "data": {
      "text/plain": [
       "2.682172557281901e-17"
      ]
     },
     "execution_count": 31,
     "metadata": {},
     "output_type": "execute_result"
    }
   ],
   "source": [
    "Pvalue"
   ]
  },
  {
   "cell_type": "code",
   "execution_count": null,
   "id": "a77e27fd",
   "metadata": {},
   "outputs": [],
   "source": []
  }
 ],
 "metadata": {
  "kernelspec": {
   "display_name": "Python 3",
   "language": "python",
   "name": "python3"
  },
  "language_info": {
   "codemirror_mode": {
    "name": "ipython",
    "version": 3
   },
   "file_extension": ".py",
   "mimetype": "text/x-python",
   "name": "python",
   "nbconvert_exporter": "python",
   "pygments_lexer": "ipython3",
   "version": "3.8.8"
  }
 },
 "nbformat": 4,
 "nbformat_minor": 5
}
