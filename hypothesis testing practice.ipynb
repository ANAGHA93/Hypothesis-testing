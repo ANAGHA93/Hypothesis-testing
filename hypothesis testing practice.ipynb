{
 "cells": [
  {
   "cell_type": "code",
   "execution_count": 8,
   "id": "f6a21947",
   "metadata": {},
   "outputs": [],
   "source": [
    "import pandas as pd"
   ]
  },
  {
   "cell_type": "code",
   "execution_count": 9,
   "id": "6a052b64",
   "metadata": {},
   "outputs": [],
   "source": [
    "import numpy as np"
   ]
  },
  {
   "cell_type": "code",
   "execution_count": 10,
   "id": "aa9e141b",
   "metadata": {},
   "outputs": [],
   "source": [
    "import matplotlib.pyplot as plt"
   ]
  },
  {
   "cell_type": "code",
   "execution_count": 11,
   "id": "41faf140",
   "metadata": {},
   "outputs": [],
   "source": [
    "import scipy\n",
    "from scipy import stats"
   ]
  },
  {
   "cell_type": "code",
   "execution_count": 40,
   "id": "968689df",
   "metadata": {},
   "outputs": [],
   "source": [
    "#one sample,one tail test\n",
    "data=pd.Series([.593,.142,.329,.691,.231,.793,.519,.392,.418])\n"
   ]
  },
  {
   "cell_type": "code",
   "execution_count": 27,
   "id": "7d818a9b",
   "metadata": {},
   "outputs": [],
   "source": [
    "p=scipy.stats.ttest_1samp(data,.3)[1]\n",
    "p_value=p/2"
   ]
  },
  {
   "cell_type": "code",
   "execution_count": 25,
   "id": "b5ff2a54",
   "metadata": {},
   "outputs": [
    {
     "data": {
      "text/plain": [
       "1.1025294192565798"
      ]
     },
     "execution_count": 25,
     "metadata": {},
     "output_type": "execute_result"
    }
   ],
   "source": [
    "p_value"
   ]
  },
  {
   "cell_type": "code",
   "execution_count": 19,
   "id": "34f0934f",
   "metadata": {},
   "outputs": [],
   "source": [
    "#two tail test\n",
    "control=pd.Series([91,87,99,77,88,91])\n",
    "Treat=pd.Series([101,110,103,93,99,104])"
   ]
  },
  {
   "cell_type": "code",
   "execution_count": 20,
   "id": "c413c0fe",
   "metadata": {},
   "outputs": [
    {
     "data": {
      "text/plain": [
       "Ttest_indResult(statistic=-3.445612673536487, pvalue=0.006272124350809803)"
      ]
     },
     "execution_count": 20,
     "metadata": {},
     "output_type": "execute_result"
    }
   ],
   "source": [
    "stats.ttest_ind(control,Treat)"
   ]
  },
  {
   "cell_type": "code",
   "execution_count": 28,
   "id": "bc3dc971",
   "metadata": {},
   "outputs": [],
   "source": [
    "#proportion test\n",
    "\n",
    "n1=247\n",
    "p1=.37\n",
    "n2=308\n",
    "p2=.39\n",
    "\n",
    "\n"
   ]
  },
  {
   "cell_type": "code",
   "execution_count": 33,
   "id": "b7568194",
   "metadata": {},
   "outputs": [],
   "source": [
    "population1=np.random.binomial(1,p1,n1)"
   ]
  },
  {
   "cell_type": "code",
   "execution_count": 34,
   "id": "30ebaa8b",
   "metadata": {},
   "outputs": [],
   "source": [
    "population2=np.random.binomial(1,p2,n2)"
   ]
  },
  {
   "cell_type": "code",
   "execution_count": 39,
   "id": "482450d2",
   "metadata": {},
   "outputs": [
    {
     "data": {
      "text/plain": [
       "Ttest_indResult(statistic=-0.8203846192320865, pvalue=0.4123503575615528)"
      ]
     },
     "execution_count": 39,
     "metadata": {},
     "output_type": "execute_result"
    }
   ],
   "source": [
    "stats.ttest_ind(population1,population2)"
   ]
  },
  {
   "cell_type": "code",
   "execution_count": 43,
   "id": "3eba354d",
   "metadata": {},
   "outputs": [
    {
     "data": {
      "text/plain": [
       "(-0.8203846192320865, 0.4123503575615528, 553.0)"
      ]
     },
     "execution_count": 43,
     "metadata": {},
     "output_type": "execute_result"
    }
   ],
   "source": [
    "import statsmodels.api as sm\n",
    "sm.stats.ttest_ind(population1,population2)"
   ]
  },
  {
   "cell_type": "code",
   "execution_count": null,
   "id": "8b94f9f8",
   "metadata": {},
   "outputs": [],
   "source": [
    "\n"
   ]
  }
 ],
 "metadata": {
  "kernelspec": {
   "display_name": "Python 3",
   "language": "python",
   "name": "python3"
  },
  "language_info": {
   "codemirror_mode": {
    "name": "ipython",
    "version": 3
   },
   "file_extension": ".py",
   "mimetype": "text/x-python",
   "name": "python",
   "nbconvert_exporter": "python",
   "pygments_lexer": "ipython3",
   "version": "3.8.8"
  }
 },
 "nbformat": 4,
 "nbformat_minor": 5
}
